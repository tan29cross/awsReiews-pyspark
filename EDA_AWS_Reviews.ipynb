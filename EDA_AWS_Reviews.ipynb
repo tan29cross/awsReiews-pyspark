{
 "cells": [
  {
   "cell_type": "code",
   "execution_count": 1,
   "id": "d9b3993f-7d97-4b3e-9a9e-d3acb0024d8e",
   "metadata": {},
   "outputs": [
    {
     "data": {
      "text/plain": [
       "'/home/glue_user/spark'"
      ]
     },
     "execution_count": 1,
     "metadata": {},
     "output_type": "execute_result"
    }
   ],
   "source": [
    "import findspark\n",
    "findspark.init()\n",
    "findspark.find()\n"
   ]
  },
  {
   "cell_type": "code",
   "execution_count": 2,
   "id": "35485f2e-175c-4f6c-aa7d-7cd38bfdea73",
   "metadata": {},
   "outputs": [],
   "source": [
    "from pyspark import SparkConf, SparkContext\n",
    "from pyspark.sql import SparkSession\n",
    "from pyspark.sql import functions as F,Window\n",
    "from pyspark.sql.types import StructType, StructField, StringType, IntegerType,DateType\n",
    "import matplotlib.pyplot as plt\n",
    "import seaborn as sns\n",
    "import pandas as pd"
   ]
  },
  {
   "cell_type": "code",
   "execution_count": 3,
   "id": "5097b520-a286-4e2d-870c-edbce9aa43e6",
   "metadata": {},
   "outputs": [],
   "source": [
    "\n",
    "# Create a SparkConf object\n",
    "conf = SparkConf().setAppName(\"MyApp\")\n",
    "\n",
    "conf.set(\"spark.executor.memory\", \"16g\")\n",
    "conf.set(\"spark.driver.memory\", \"8g\")\n",
    "conf.set(\"spark.master\", \"local[4]\")\n",
    "conf.set(\"spark.executor.instances\", \"4\")\n",
    "conf.set('spark.executor.cores', '8')\n",
    "#conf.set('spark.driver.maxResultSize', '4g')\n",
    "#conf.set(\"spark.local.dir\", \"/mnt/ssd/spark\")\n",
    "\n",
    "#creating spark context \n",
    "sc = SparkContext(conf=conf)\n",
    "\n",
    "#creating a spark session\n",
    "spark = SparkSession.builder.getOrCreate()"
   ]
  },
  {
   "cell_type": "code",
   "execution_count": 4,
   "id": "2dd49a11-d50a-467d-b832-f6b5bb078c47",
   "metadata": {},
   "outputs": [
    {
     "data": {
      "text/plain": [
       "DataFrame[marketplace: string, customer_id: string, review_id: string, product_id: string, product_parent: string, product_title: string, star_rating: int, helpful_votes: int, total_votes: int, vine: string, verified_purchase: string, review_headline: string, review_body: string, review_date: date, year: int, productCategory: string]"
      ]
     },
     "execution_count": 4,
     "metadata": {},
     "output_type": "execute_result"
    }
   ],
   "source": [
    "# Define the fields of the schema\n",
    "fields = [StructField(\"marketplace\", StringType(), True),\n",
    "          StructField(\"customer_id\", StringType(), True),\n",
    "          StructField(\"review_id\", StringType(), True),\n",
    "          StructField(\"product_id\", StringType(), True),\n",
    "          StructField(\"product_parent\", StringType(), True),\n",
    "          StructField(\"product_title\", StringType(), True),\n",
    "          StructField(\"star_rating\", IntegerType(), True),\n",
    "          StructField(\"helpful_votes\", IntegerType(), True),\n",
    "          StructField(\"total_votes\", IntegerType(), True),\n",
    "          StructField(\"vine\", StringType(), True),\n",
    "          StructField(\"verified_purchase\", StringType(), True),\n",
    "          StructField(\"review_headline\", StringType(), True),\n",
    "          StructField(\"review_body\", StringType(), True),\n",
    "          StructField(\"review_date\", DateType(), True),\n",
    "          StructField(\"year\", IntegerType(), True)]\n",
    "\n",
    "#creating a schema for atframes\n",
    "schema = StructType(fields)\n",
    "\n",
    "#reading books review data \n",
    "df_books = spark.read.schema(schema).parquet(\"s3://amazon-reviews-pds/parquet/product_category=Books/*.parquet\")\n",
    "\n",
    "#creating a constant column with product category == Music\n",
    "df_books =  df_books.withColumn('productCategory',F.lit(\"Books\"))\n",
    "\n",
    "#caching book dataframe\n",
    "df_books.cache()\n",
    "\n",
    "\n",
    "#reading music reviews data \n",
    "df_music = spark.read.schema(schema).parquet(\"s3://amazon-reviews-pds/parquet/product_category=Music/*.parquet\")\n",
    "\n",
    "#creating a constant column with product category == Music\n",
    "df_music =  df_music.withColumn('productCategory',F.lit(\"Music\"))\n",
    "\n",
    "#caching music data\n",
    "df_music.cache()\n",
    "\n",
    "\n",
    "\n"
   ]
  },
  {
   "cell_type": "code",
   "execution_count": 5,
   "id": "0117daf1-f748-48ee-add3-d01b20c05142",
   "metadata": {},
   "outputs": [],
   "source": [
    "# creating a unionised dataframe for EDA\n",
    "df_music_books = df_books.union(df_music)"
   ]
  },
  {
   "cell_type": "code",
   "execution_count": 6,
   "id": "b45bc01b-6c1d-4d56-a42a-b79e0a7704e8",
   "metadata": {},
   "outputs": [
    {
     "data": {
      "text/plain": [
       "DataFrame[marketplace: string, customer_id: string, review_id: string, product_id: string, product_parent: string, product_title: string, star_rating: int, helpful_votes: int, total_votes: int, vine: string, verified_purchase: string, review_headline: string, review_body: string, review_date: date, year: int, productCategory: string]"
      ]
     },
     "execution_count": 6,
     "metadata": {},
     "output_type": "execute_result"
    }
   ],
   "source": [
    "#caching unionised dataframe\n",
    "df_music_books.cache()"
   ]
  },
  {
   "cell_type": "markdown",
   "id": "e1950032-e717-4c68-84a5-bfe8aefce477",
   "metadata": {},
   "source": [
    "#### At this stage, we have a unified dataframe containing all the books and music products reviews with additional dimension i.e. productCategory"
   ]
  },
  {
   "cell_type": "code",
   "execution_count": 7,
   "id": "e0b4e31c-dbb8-468c-a48b-9a8c8fc794d7",
   "metadata": {},
   "outputs": [
    {
     "name": "stdout",
     "output_type": "stream",
     "text": [
      "+-----------+-----------+--------------+----------+--------------+--------------------+-----------+-------------+-----------+----+-----------------+--------------------+--------------------+-----------+----+---------------+\n",
      "|marketplace|customer_id|     review_id|product_id|product_parent|       product_title|star_rating|helpful_votes|total_votes|vine|verified_purchase|     review_headline|         review_body|review_date|year|productCategory|\n",
      "+-----------+-----------+--------------+----------+--------------+--------------------+-----------+-------------+-----------+----+-----------------+--------------------+--------------------+-----------+----+---------------+\n",
      "|         US|   15444933|R1WWG70WK9VUCH|1848192576|     835940987|Standing Qigong f...|          5|            9|         10|   N|                Y|Informative AND i...|After attending a...| 2015-05-02|2015|          Books|\n",
      "|         US|   20595117|R1EQ3POS0RIOD5|145162445X|     574044348|A Universe from N...|          4|            4|          7|   N|                N|Between 'Nothing'...|Krauss traces the...| 2012-06-29|2012|          Books|\n",
      "|         US|   52925878|R10SRJA4VVGUBD|055341805X|     846590203|Hyacinth Girls: A...|          4|            0|          0|   Y|                N|Mysteries upon my...|Rebecca, a dental...| 2015-05-02|2015|          Books|\n",
      "|         US|   40062567| RD3268X41GM7U|0425263908|     119148606|        Bared to You|          5|            1|          1|   N|                N|\"RAW, STEAMY, HYP...|\\\\\"BARED TO YOU\\\\...| 2012-06-29|2012|          Books|\n",
      "|         US|   47221489|R3KGQL5X5BSJE1|1416556141|     987400385|     Healer: A Novel|          5|            0|          0|   N|                Y|  Well written story|Good characters a...| 2015-05-02|2015|          Books|\n",
      "|         US|   20709973|R3IY9A2Z7N2R49|1455523003|     181218559|The Missionary Po...|          4|            5|          7|   N|                Y|Eye opening, yet ...|This book was fas...| 2012-06-29|2012|          Books|\n",
      "|         US|   18052694|R12PGYPH9B9UVJ|0990388697|     840404589|I'm Tired of Bein...|          4|            1|          1|   N|                Y|                 JOY|A personal world ...| 2015-05-02|2015|          Books|\n",
      "|         US|   48279565|R2CA9LLJBEORNZ|0345803485|     600633062|Fifty Shades of G...|          1|            7|          7|   N|                N|This book is Twil...|I bought this boo...| 2012-06-29|2012|          Books|\n",
      "|         US|   14297627|R2C8BZMS1JRZ04|1469245167|     466321651|The Thrill of Vic...|          4|            0|          0|   N|                Y|          Four Stars|Sandra Brown is a...| 2015-05-02|2015|          Books|\n",
      "|         US|   37340439|R2F8UI9NNP6S33|0345803485|     600633062|Fifty Shades of G...|          5|            0|          9|   N|                N|Fifty shades of grey|Loved this book! ...| 2012-06-29|2012|          Books|\n",
      "|         US|   35122979|R18L06ZV927ZS0|0743477111|      43217624|Romeo and Juliet ...|          4|            0|          0|   N|                Y|Good text, but ed...|The text and comm...| 2015-05-02|2015|          Books|\n",
      "|         US|   11213632|R32NFRKUPJ3E4J|1609611543|     657488375|Wheat Belly: Lose...|          5|            1|          1|   N|                Y|         Wheat belly|This is an excell...| 2012-06-29|2012|          Books|\n",
      "|         US|   15816241|R1ZQ0M1HIMV8T9|0563551933|     412573914|Dangerous Dessert...|          5|            0|          0|   N|                Y|          Five Stars|Book in great con...| 2015-05-02|2015|          Books|\n",
      "|         US|   36748944| RKEHECW1IR9DT|0061777269|      84797790|Consciousness Bey...|          5|            0|          0|   N|                N|More evidence of ...|Consciousness Bey...| 2012-06-29|2012|          Books|\n",
      "|         US|   38261190|R3HKUZRLPR36SW|0316769487|     862964341|The Catcher in th...|          1|            1|          6|   N|                Y|Some people rave ...|This book seems t...| 2015-05-02|2015|          Books|\n",
      "|         US|   44704475|R36X05VUTXCEJQ|0307730697|      62706984|Fearless: The Und...|          4|            0|          0|   N|                Y|    American courage|For those who thi...| 2012-06-29|2012|          Books|\n",
      "|         US|   38351306|R257VQLC12S8IJ|0448439158|      27871958|Best-Ever Big Sister|          5|            0|          0|   N|                Y|My 1. 5-2yr old l...|My 1.5-2yr old lo...| 2015-05-02|2015|          Books|\n",
      "|         US|   49320969|R1DA0O932TXFV7|0375842209|      47504452|      The Book Thief|          5|            1|          1|   N|                N|Many Years Later,...|This is a book th...| 2012-06-29|2012|          Books|\n",
      "|         US|   21239776| RAF45VHW4W7HU|1402773536|     615203301|  Large Print Sudoku|          5|            1|          1|   N|                Y|          Five Stars|like the big prin...| 2015-05-02|2015|          Books|\n",
      "|         US|   39150739|R1YBB6HXVCZ8AR|0307592731|     576844294|Wild: From Lost t...|          5|            1|          1|   N|                N| A True Page-Turner!|I absolutely love...| 2012-06-29|2012|          Books|\n",
      "+-----------+-----------+--------------+----------+--------------+--------------------+-----------+-------------+-----------+----+-----------------+--------------------+--------------------+-----------+----+---------------+\n",
      "only showing top 20 rows\n",
      "\n"
     ]
    }
   ],
   "source": [
    "df_music_books.show()"
   ]
  },
  {
   "cell_type": "markdown",
   "id": "e150230c-1fa9-4cab-a8cd-0fb4864b72ca",
   "metadata": {},
   "source": [
    "## Exploratory Data Analysis"
   ]
  },
  {
   "cell_type": "markdown",
   "id": "98a462a5-e949-4bbf-887a-030776ed0f63",
   "metadata": {},
   "source": [
    "#### 1. Getting  reviews (%) for each category"
   ]
  },
  {
   "cell_type": "code",
   "execution_count": 9,
   "id": "8b4da689-c7d2-4a6d-9280-762ad64a88c8",
   "metadata": {},
   "outputs": [],
   "source": [
    "df_num_reviews = df_music_books.groupby('productCategory').agg(F.count('review_id'))"
   ]
  },
  {
   "cell_type": "code",
   "execution_count": 12,
   "id": "d8976e0d-0f25-490b-97e7-cff97db89d43",
   "metadata": {},
   "outputs": [
    {
     "name": "stdout",
     "output_type": "stream",
     "text": [
      "+---------------+----------------+\n",
      "|productCategory|count(review_id)|\n",
      "+---------------+----------------+\n",
      "|          Books|        20726160|\n",
      "|          Music|         6177781|\n",
      "+---------------+----------------+\n",
      "\n"
     ]
    }
   ],
   "source": [
    "df_num_reviews.show()"
   ]
  },
  {
   "cell_type": "code",
   "execution_count": 25,
   "id": "4cd7fc86-cf74-4b19-97e2-b15ee3db4e17",
   "metadata": {},
   "outputs": [],
   "source": [
    "#calculating total reviews\n",
    "total_reviews = df_num_reviews.agg(F.sum('count(review_id)')).first()[0]"
   ]
  },
  {
   "cell_type": "code",
   "execution_count": 28,
   "id": "ca79f158-8c58-484d-b89e-e89d3dba527c",
   "metadata": {},
   "outputs": [],
   "source": [
    "df_num_reviews_perc =  df_num_reviews.withColumn('reviews_percent', F.col('count(review_id)')/total_reviews*100)"
   ]
  },
  {
   "cell_type": "code",
   "execution_count": 29,
   "id": "09ea8941-8de9-4a57-9937-c3d8b6669226",
   "metadata": {},
   "outputs": [
    {
     "name": "stdout",
     "output_type": "stream",
     "text": [
      "+---------------+----------------+------------------+\n",
      "|productCategory|count(review_id)|   reviews_percent|\n",
      "+---------------+----------------+------------------+\n",
      "|          Books|        20726160| 77.03763548990834|\n",
      "|          Music|         6177781|22.962364510091664|\n",
      "+---------------+----------------+------------------+\n",
      "\n"
     ]
    }
   ],
   "source": [
    "df_num_reviews_perc.show()"
   ]
  },
  {
   "cell_type": "code",
   "execution_count": 30,
   "id": "7c58ccc0-bd81-450f-8c1e-d1d44d1a8bd6",
   "metadata": {},
   "outputs": [],
   "source": [
    "pd_num_reviews_perc = df_num_reviews_perc.toPandas()"
   ]
  },
  {
   "cell_type": "code",
   "execution_count": 32,
   "id": "8cb5e4b1-e20e-45ef-839e-884748a3f9b3",
   "metadata": {},
   "outputs": [
    {
     "data": {
      "text/plain": [
       "<Figure size 1440x1440 with 0 Axes>"
      ]
     },
     "execution_count": 32,
     "metadata": {},
     "output_type": "execute_result"
    },
    {
     "data": {
      "text/plain": [
       "<Figure size 1440x1440 with 0 Axes>"
      ]
     },
     "metadata": {},
     "output_type": "display_data"
    }
   ],
   "source": []
  },
  {
   "cell_type": "code",
   "execution_count": 45,
   "id": "1d0e4803-170d-40f9-bd9a-3cc39effd85a",
   "metadata": {},
   "outputs": [
    {
     "data": {
      "text/plain": [
       "<matplotlib.axes._subplots.AxesSubplot at 0x7f4ef8787610>"
      ]
     },
     "execution_count": 45,
     "metadata": {},
     "output_type": "execute_result"
    },
    {
     "data": {
      "image/png": "[encoded data removed]",
      "text/plain": [
       "<Figure size 720x360 with 1 Axes>"
      ]
     },
     "metadata": {
      "needs_background": "light"
     },
     "output_type": "display_data"
    }
   ],
   "source": [
    "# Create a figure with a specified size\n",
    "plt.figure(figsize=(10, 5))\n",
    "# Add labels and title\n",
    "plt.xlabel('Product Category')\n",
    "plt.ylabel('Percentage of Total')\n",
    "plt.title('Percent of Reviews by Product Category')\n",
    "sns.barplot(data=pd_num_reviews_perc, x=\"productCategory\", y=\"reviews_percent\")"
   ]
  },
  {
   "cell_type": "markdown",
   "id": "cb60f369-ea42-4ef7-9632-474e1b45dd46",
   "metadata": {},
   "source": [
    "As observed 77% of reviews in the dataset are for book products"
   ]
  },
  {
   "cell_type": "markdown",
   "id": "9e48dffe-aa66-4b29-a239-94a91df92b6b",
   "metadata": {},
   "source": [
    "#### 2. Getting  reviews (%) by star rating and product category"
   ]
  },
  {
   "cell_type": "code",
   "execution_count": 40,
   "id": "7d1a13f7-a266-4a84-9553-1d7920c29022",
   "metadata": {},
   "outputs": [],
   "source": [
    "df_num_reviews_rating =  df_music_books.groupby('productCategory', 'star_rating').agg(F.count('review_id'))"
   ]
  },
  {
   "cell_type": "code",
   "execution_count": 48,
   "id": "99057858-ae55-4d97-9350-4e356d0b1f5d",
   "metadata": {},
   "outputs": [],
   "source": [
    "df_num_reviews_rating_perc = df_num_reviews_rating.withColumn('reviews_perc', F.col('count(review_id)')/F.sum('count(review_id)').over(Window.partitionBy('productCategory'))*100).sort([ 'productCategory', 'star_rating'], ascending=[True, True])"
   ]
  },
  {
   "cell_type": "code",
   "execution_count": 49,
   "id": "56506ec5-7f83-4980-94bd-b0848f70185e",
   "metadata": {},
   "outputs": [
    {
     "name": "stdout",
     "output_type": "stream",
     "text": [
      "+---------------+-----------+----------------+------------------+\n",
      "|productCategory|star_rating|count(review_id)|      reviews_perc|\n",
      "+---------------+-----------+----------------+------------------+\n",
      "|          Books|          1|         1112232| 5.366319665582047|\n",
      "|          Books|          2|          861867|  4.15835350108269|\n",
      "|          Books|          3|         1543611| 7.447645873620584|\n",
      "|          Books|          4|         3546319|17.110352327686364|\n",
      "|          Books|          5|        13662131| 65.91732863202832|\n",
      "|          Music|          1|          254396| 4.117918715474051|\n",
      "|          Music|          2|          202861| 3.283719510290183|\n",
      "|          Music|          3|          405541| 6.564509165993421|\n",
      "|          Music|          4|         1018968|16.494077727909097|\n",
      "|          Music|          5|         4296015| 69.53977488033325|\n",
      "+---------------+-----------+----------------+------------------+\n",
      "\n"
     ]
    }
   ],
   "source": [
    "df_num_reviews_rating_perc.show()"
   ]
  },
  {
   "cell_type": "code",
   "execution_count": 50,
   "id": "b8f7949d-0e7b-442f-95dc-00b056a90527",
   "metadata": {},
   "outputs": [],
   "source": [
    "pd_num_reviews_rating_perc = df_num_reviews_rating_perc.toPandas()"
   ]
  },
  {
   "cell_type": "code",
   "execution_count": 52,
   "id": "8ebf8272-121d-4194-b3a3-f40f508f81bf",
   "metadata": {},
   "outputs": [
    {
     "data": {
      "text/plain": [
       "<matplotlib.axes._subplots.AxesSubplot at 0x7f4ef8776f10>"
      ]
     },
     "execution_count": 52,
     "metadata": {},
     "output_type": "execute_result"
    },
    {
     "data": {
      "image/png": "[encoded data removed]",
      "text/plain": [
       "<Figure size 720x720 with 1 Axes>"
      ]
     },
     "metadata": {
      "needs_background": "light"
     },
     "output_type": "display_data"
    }
   ],
   "source": [
    "# Create a figure with a specified size\n",
    "plt.figure(figsize=(10, 10))\n",
    "# Add labels and title\n",
    "plt.xlabel('Star Rating')\n",
    "plt.ylabel('Percentage of Total')\n",
    "plt.title('Percent of Reviews by Product Category')\n",
    "sns.barplot(data=pd_num_reviews_rating_perc, x=\"star_rating\", y=\"reviews_perc\", hue ='productCategory')"
   ]
  },
  {
   "cell_type": "markdown",
   "id": "60906bfd-898f-4ac1-8e11-c0a4a8a0d075",
   "metadata": {},
   "source": [
    "A majority of reviews are rated 5 in both the product categories with music products having a slightly higher proprotion og 5-star reviews."
   ]
  },
  {
   "cell_type": "markdown",
   "id": "e00720b7-ac1b-4022-a3d8-ae3eeffc9ff5",
   "metadata": {},
   "source": [
    "#### 3.Ratings by Market PLace\n"
   ]
  },
  {
   "cell_type": "code",
   "execution_count": 78,
   "id": "1b251324-44b2-47a0-9c43-98ca1166e08f",
   "metadata": {},
   "outputs": [],
   "source": [
    "df_reviews_by_marketplace = df_music_books.groupby(['marketplace', 'productCategory', 'star_rating']).agg(F.count('review_id')).sort(['marketplace', 'productCategory', 'star_rating'], ascending=[True, True, False])\n"
   ]
  },
  {
   "cell_type": "code",
   "execution_count": 79,
   "id": "cab9242f-0b4b-4d13-99e0-ef2a164549ff",
   "metadata": {},
   "outputs": [
    {
     "data": {
      "text/plain": [
       "DataFrame[marketplace: string, productCategory: string, star_rating: int, count(review_id): bigint]"
      ]
     },
     "execution_count": 79,
     "metadata": {},
     "output_type": "execute_result"
    }
   ],
   "source": [
    "df_reviews_by_marketplace.cache()"
   ]
  },
  {
   "cell_type": "code",
   "execution_count": 80,
   "id": "e0bde2c5-e2a5-476c-95df-d39caac615dc",
   "metadata": {},
   "outputs": [
    {
     "name": "stdout",
     "output_type": "stream",
     "text": [
      "+-----------+---------------+-----------+----------------+\n",
      "|marketplace|productCategory|star_rating|count(review_id)|\n",
      "+-----------+---------------+-----------+----------------+\n",
      "|         DE|          Books|          5|           43205|\n",
      "|         DE|          Books|          4|            9923|\n",
      "|         DE|          Books|          3|            4540|\n",
      "|         DE|          Books|          2|            2833|\n",
      "|         DE|          Books|          1|            3359|\n",
      "|         DE|          Music|          5|          113119|\n",
      "|         DE|          Music|          4|           22613|\n",
      "|         DE|          Music|          3|           11270|\n",
      "|         DE|          Music|          2|            6692|\n",
      "|         DE|          Music|          1|            6905|\n",
      "|         FR|          Books|          5|           13452|\n",
      "|         FR|          Books|          4|            4147|\n",
      "|         FR|          Books|          3|            1875|\n",
      "|         FR|          Books|          2|            1001|\n",
      "|         FR|          Books|          1|             987|\n",
      "|         FR|          Music|          5|           47224|\n",
      "|         FR|          Music|          4|           13950|\n",
      "|         FR|          Music|          3|            5910|\n",
      "|         FR|          Music|          2|            2755|\n",
      "|         FR|          Music|          1|            2442|\n",
      "+-----------+---------------+-----------+----------------+\n",
      "only showing top 20 rows\n",
      "\n"
     ]
    }
   ],
   "source": [
    "df_reviews_by_marketplace.show()"
   ]
  },
  {
   "cell_type": "markdown",
   "id": "e1c07ee7-7bbd-4a01-8fd2-e6e29a9945da",
   "metadata": {},
   "source": [
    "##### Since majority reviews are 5-star rated, comparing out of all 5-star ratings which market place contributes to most 5-star ratings in each category."
   ]
  },
  {
   "cell_type": "code",
   "execution_count": 81,
   "id": "3093b6dd-1855-4112-b64e-2295cba28f1c",
   "metadata": {},
   "outputs": [],
   "source": [
    "#filtering 5-star rating data\n",
    "df_reviews_by_marketplace_5 = df_reviews_by_marketplace.filter(F.col('star_rating')==5)"
   ]
  },
  {
   "cell_type": "code",
   "execution_count": 82,
   "id": "3a539007-3e42-4126-8602-07786f387c2a",
   "metadata": {},
   "outputs": [
    {
     "name": "stdout",
     "output_type": "stream",
     "text": [
      "+-----------+---------------+-----------+----------------+\n",
      "|marketplace|productCategory|star_rating|count(review_id)|\n",
      "+-----------+---------------+-----------+----------------+\n",
      "|         DE|          Books|          5|           43205|\n",
      "|         DE|          Music|          5|          113119|\n",
      "|         FR|          Books|          5|           13452|\n",
      "|         FR|          Music|          5|           47224|\n",
      "|         JP|          Books|          5|            8150|\n",
      "|         JP|          Music|          5|           57491|\n",
      "|         UK|          Books|          5|          173046|\n",
      "|         UK|          Music|          5|          242596|\n",
      "|         US|          Books|          5|        13424278|\n",
      "|         US|          Music|          5|         3835585|\n",
      "+-----------+---------------+-----------+----------------+\n",
      "\n"
     ]
    }
   ],
   "source": [
    "df_reviews_by_marketplace_5.show()"
   ]
  },
  {
   "cell_type": "code",
   "execution_count": 86,
   "id": "c77fb173-a849-4a24-9da0-0a983571f301",
   "metadata": {},
   "outputs": [],
   "source": [
    "df_reviews_by_marketplace_5 = df_reviews_by_marketplace_5.withColumn('percent',  F.col('count(review_id)')/F.sum('count(review_id)').over(Window.partitionBy('productCategory'))*100).sort(['productCategory', 'percent'], ascending =[True, False])"
   ]
  },
  {
   "cell_type": "code",
   "execution_count": 87,
   "id": "86bc0962-439d-40eb-9493-37a8dc9b2ff6",
   "metadata": {},
   "outputs": [
    {
     "name": "stdout",
     "output_type": "stream",
     "text": [
      "+-----------+---------------+-----------+----------------+-------------------+\n",
      "|marketplace|productCategory|star_rating|count(review_id)|            percent|\n",
      "+-----------+---------------+-----------+----------------+-------------------+\n",
      "|         US|          Books|          5|        13424278|  98.25903440685791|\n",
      "|         UK|          Books|          5|          173046| 1.2666106041583116|\n",
      "|         DE|          Books|          5|           43205| 0.3162390991566396|\n",
      "|         FR|          Books|          5|           13452|0.09846194565108474|\n",
      "|         JP|          Books|          5|            8150|0.05965394417605862|\n",
      "|         US|          Music|          5|         3835585|  89.28239310151385|\n",
      "|         UK|          Music|          5|          242596|  5.647000766989873|\n",
      "|         DE|          Music|          5|          113119| 2.6331146422905882|\n",
      "|         JP|          Music|          5|           57491| 1.3382402063307506|\n",
      "|         FR|          Music|          5|           47224| 1.0992512828749434|\n",
      "+-----------+---------------+-----------+----------------+-------------------+\n",
      "\n"
     ]
    }
   ],
   "source": [
    "df_reviews_by_marketplace_5.show()"
   ]
  },
  {
   "cell_type": "code",
   "execution_count": 93,
   "id": "b5c3e15a-7d4b-4577-930e-f91caa98673b",
   "metadata": {},
   "outputs": [
    {
     "data": {
      "text/plain": [
       "<seaborn.axisgrid.FacetGrid at 0x7f4ecd3d57d0>"
      ]
     },
     "execution_count": 93,
     "metadata": {},
     "output_type": "execute_result"
    },
    {
     "data": {
      "image/png": "[encoded data removed]",
      "text/plain": [
       "<Figure size 864x432 with 2 Axes>"
      ]
     },
     "metadata": {
      "needs_background": "light"
     },
     "output_type": "display_data"
    }
   ],
   "source": [
    "\n",
    "sns.catplot(\n",
    "    data=df_reviews_by_marketplace_5.toPandas(), x=\"marketplace\", y=\"percent\", col=\"productCategory\",\n",
    "    kind=\"bar\", height=6, aspect=1,\n",
    ")\n",
    "\n",
    "# Add labels and title\n",
    "# Create a figure with a specified size\n",
    "\n",
    "#plt.title('Number of 5-Star Ratings by Market Place')"
   ]
  },
  {
   "cell_type": "markdown",
   "id": "9990fe11-144b-41fe-ac28-726fecc822dd",
   "metadata": {},
   "source": [
    "Now, checking to see out of all the market places which Market place contributed most number of 1-star ratings"
   ]
  },
  {
   "cell_type": "code",
   "execution_count": 94,
   "id": "f3bcbd92-66fd-4e4c-9f1a-1eddbf669835",
   "metadata": {},
   "outputs": [],
   "source": [
    "#filtering 5-star rating data\n",
    "df_reviews_by_marketplace_1 = df_reviews_by_marketplace.filter(F.col('star_rating')==1)"
   ]
  },
  {
   "cell_type": "code",
   "execution_count": 95,
   "id": "9b7d8460-8919-4c93-ac14-83263d034426",
   "metadata": {},
   "outputs": [],
   "source": [
    "df_reviews_by_marketplace_1 = df_reviews_by_marketplace_1.withColumn('percent',  F.col('count(review_id)')/F.sum('count(review_id)').over(Window.partitionBy('productCategory'))*100).sort(['productCategory', 'percent'], ascending =[True, False])"
   ]
  },
  {
   "cell_type": "code",
   "execution_count": 96,
   "id": "36ccc259-19cb-467a-a496-598b52feaeab",
   "metadata": {},
   "outputs": [
    {
     "data": {
      "text/plain": [
       "<seaborn.axisgrid.FacetGrid at 0x7f4ecd278550>"
      ]
     },
     "execution_count": 96,
     "metadata": {},
     "output_type": "execute_result"
    },
    {
     "data": {
      "image/png": "[encoded data removed]",
      "text/plain": [
       "<Figure size 864x432 with 2 Axes>"
      ]
     },
     "metadata": {
      "needs_background": "light"
     },
     "output_type": "display_data"
    }
   ],
   "source": [
    "\n",
    "sns.catplot(\n",
    "    data=df_reviews_by_marketplace_1.toPandas(), x=\"marketplace\", y=\"percent\", col=\"productCategory\",\n",
    "    kind=\"bar\", height=6, aspect=1,\n",
    ")\n",
    "\n",
    "# Add labels and title\n",
    "# Create a figure with a specified size\n",
    "\n",
    "#plt.title('Number of 5-Star Ratings by Market Place')"
   ]
  },
  {
   "cell_type": "markdown",
   "id": "0397779d-b6dd-4fa0-9777-09559f69c92a",
   "metadata": {},
   "source": [
    "The data seems to be skewed towards US market, as majority of the data is from the US marketplace.  "
   ]
  },
  {
   "cell_type": "markdown",
   "id": "c5e32613-1ccf-447d-9e63-4dcf7c53ba71",
   "metadata": {},
   "source": [
    "Therefore, now looking at each marketplace individually to see, out of all the reviews within a merketplace what is the proportion of various star-ratings"
   ]
  },
  {
   "cell_type": "code",
   "execution_count": 106,
   "id": "e4efa67e-3414-4c89-b187-6b5c51d12c39",
   "metadata": {},
   "outputs": [],
   "source": [
    "df_reviews_by_marketplace_mp = df_reviews_by_marketplace.withColumn('Total_Percent_by_mp_category',  F.round(F.col('count(review_id)')/F.sum('count(review_id)').over(Window.partitionBy('marketplace','productCategory'))*100,2)).sort(['marketplace', 'productCategory', 'Total_Percent_by_mp_category'], ascending=[True, True, False])"
   ]
  },
  {
   "cell_type": "code",
   "execution_count": 120,
   "id": "298fbfc7-c33e-47fe-9c72-29fa532df6c6",
   "metadata": {},
   "outputs": [
    {
     "data": {
      "text/plain": [
       "<seaborn.axisgrid.FacetGrid at 0x7f4ebe75f5d0>"
      ]
     },
     "execution_count": 120,
     "metadata": {},
     "output_type": "execute_result"
    },
    {
     "data": {
      "image/png": "[encoded data removed]",
      "text/plain": [
       "<Figure size 2225.88x432 with 5 Axes>"
      ]
     },
     "metadata": {
      "needs_background": "light"
     },
     "output_type": "display_data"
    }
   ],
   "source": [
    "g = sns.FacetGrid(\n",
    "    data=df_reviews_by_marketplace_mp.toPandas(), col=\"star_rating\",\n",
    "     height=6, aspect=1,\n",
    ")\n",
    "\n",
    "\n",
    "\n",
    "g.map_dataframe(sns.barplot, x=\"marketplace\", y ='Total_Percent_by_mp_category', hue = 'productCategory', palette=\"husl\")\n",
    "\n",
    "g.add_legend()\n"
   ]
  },
  {
   "cell_type": "markdown",
   "id": "cf839615-99b6-4750-a514-728257c0f230",
   "metadata": {},
   "source": [
    "It can be observed most of the 5-star reviews for music category are contributed by buyers in UK, whereas for books UK and DE make up for most of the 5-satr ratings. However, France seems to be getting least percent of 5-star rating in music and books categories"
   ]
  },
  {
   "cell_type": "markdown",
   "id": "a0760051-0337-4ae1-b5fa-8291f0cce162",
   "metadata": {},
   "source": [
    "Looking at market places that had most amount of 1-star rating reviews ---> books products are getting more 1-star ratings than music products"
   ]
  },
  {
   "cell_type": "markdown",
   "id": "81464239-0f3a-4241-b3cf-8c2d32ec1117",
   "metadata": {},
   "source": [
    "#### 4. Looking at how helpful the reviews were across various categories "
   ]
  },
  {
   "cell_type": "code",
   "execution_count": 137,
   "id": "09c8d4c6-3970-4638-b74b-cd811cc0aa47",
   "metadata": {},
   "outputs": [],
   "source": [
    "#creating a datframe to calculate % of helpful reviews for each product category \n",
    "df_useful_reviews = df_music_books.groupby(['productCategory', 'star_rating']).agg(F.round((F.sum('helpful_votes')/F.sum('total_votes'))*100,2)).sort(['productCategory', 'star_rating'], ascending=[True, True])"
   ]
  },
  {
   "cell_type": "code",
   "execution_count": 138,
   "id": "5d71e537-619f-4eed-91a2-5bd017ee1418",
   "metadata": {},
   "outputs": [
    {
     "data": {
      "text/plain": [
       "DataFrame[productCategory: string, star_rating: int, round(((sum(helpful_votes) / sum(total_votes)) * 100), 2): double]"
      ]
     },
     "execution_count": 138,
     "metadata": {},
     "output_type": "execute_result"
    }
   ],
   "source": [
    "df_useful_reviews.cache()"
   ]
  },
  {
   "cell_type": "code",
   "execution_count": 140,
   "id": "20f0b3ee-55a7-45e3-847c-bba985133226",
   "metadata": {},
   "outputs": [],
   "source": [
    "df_useful_reviews = df_useful_reviews.select(F.col('productCategory'), F.col('star_rating'), F.round(F.col('round(((sum(helpful_votes) / sum(total_votes)) * 100), 2)')).alias('helpful_percent'))"
   ]
  },
  {
   "cell_type": "code",
   "execution_count": 141,
   "id": "ed886751-10f0-494a-9b65-92f468c94642",
   "metadata": {},
   "outputs": [
    {
     "name": "stdout",
     "output_type": "stream",
     "text": [
      "+---------------+-----------+---------------+\n",
      "|productCategory|star_rating|helpful_percent|\n",
      "+---------------+-----------+---------------+\n",
      "|          Books|          1|           49.0|\n",
      "|          Books|          2|           62.0|\n",
      "|          Books|          3|           69.0|\n",
      "|          Books|          4|           80.0|\n",
      "|          Books|          5|           82.0|\n",
      "|          Music|          1|           33.0|\n",
      "|          Music|          2|           42.0|\n",
      "|          Music|          3|           54.0|\n",
      "|          Music|          4|           76.0|\n",
      "|          Music|          5|           80.0|\n",
      "+---------------+-----------+---------------+\n",
      "\n"
     ]
    }
   ],
   "source": [
    "df_useful_reviews.show()"
   ]
  },
  {
   "cell_type": "code",
   "execution_count": 142,
   "id": "84a0e766-180f-4a16-b9f1-3c36aec54e11",
   "metadata": {},
   "outputs": [],
   "source": [
    "#converting to pandas\n",
    "pd_useful_reviews = df_useful_reviews.toPandas()"
   ]
  },
  {
   "cell_type": "code",
   "execution_count": null,
   "id": "d24687dd-ebda-4056-91d1-7493ef7284f3",
   "metadata": {},
   "outputs": [],
   "source": [
    "pd_useful_reviews.head()"
   ]
  },
  {
   "cell_type": "code",
   "execution_count": 143,
   "id": "08d5ee3d-828b-438e-85a4-d1b172620318",
   "metadata": {},
   "outputs": [],
   "source": [
    "df_heatmap = pd_useful_reviews.pivot( \"star_rating\", \"productCategory\",\"helpful_percent\")"
   ]
  },
  {
   "cell_type": "code",
   "execution_count": null,
   "id": "2bb3056a-3636-4fe3-9aa2-2b03e4994242",
   "metadata": {},
   "outputs": [],
   "source": [
    "df_heatmap.head()"
   ]
  },
  {
   "cell_type": "code",
   "execution_count": 146,
   "id": "06796320-2f93-4f53-8604-deae9bb21f0c",
   "metadata": {},
   "outputs": [
    {
     "data": {
      "text/plain": [
       "<matplotlib.axes._subplots.AxesSubplot at 0x7f4ebe2359d0>"
      ]
     },
     "execution_count": 146,
     "metadata": {},
     "output_type": "execute_result"
    },
    {
     "data": {
      "image/png": "[encoded data removed]",
      "text/plain": [
       "<Figure size 720x720 with 2 Axes>"
      ]
     },
     "metadata": {
      "needs_background": "light"
     },
     "output_type": "display_data"
    }
   ],
   "source": [
    "# Create a figure with a specified size\n",
    "plt.figure(figsize=(10, 10))\n",
    "# Add labels and title\n",
    "plt.xlabel('Product Category')\n",
    "plt.ylabel('Star Rating')\n",
    "plt.title('Helpful Votes percent')\n",
    "sns.heatmap(df_heatmap, annot = True, cmap=\"crest\")"
   ]
  },
  {
   "cell_type": "markdown",
   "id": "4f9f1928-e9ef-4fc9-880d-310921600462",
   "metadata": {},
   "source": [
    "##### Based on the above graph the following can be observed: \n",
    " - 5-Star rated reviews are considered helpful in both categories \n",
    " - 1-Star rated reviews are found more helpful for books than for music category products \n",
    " - As the rating drops, the percent of helpful votes also drops. "
   ]
  },
  {
   "cell_type": "markdown",
   "id": "c67ad613-0797-43c8-99a9-17521e32e3af",
   "metadata": {},
   "source": [
    "#### 5. Helpful votes % across various categories by Marketplace"
   ]
  },
  {
   "cell_type": "code",
   "execution_count": 148,
   "id": "5da65a25-de80-41d8-a53a-9122bae7888a",
   "metadata": {},
   "outputs": [],
   "source": [
    "df_useful_reviews_mp = df_music_books.groupby(['marketplace','productCategory', 'star_rating']).agg(F.round((F.sum('helpful_votes')/F.sum('total_votes'))*100,2)).sort(['productCategory', 'star_rating'], ascending=[True, True, False])"
   ]
  },
  {
   "cell_type": "code",
   "execution_count": 149,
   "id": "ebcb9bf5-4dc5-4815-a7f6-ec4fb4d9c322",
   "metadata": {},
   "outputs": [
    {
     "name": "stdout",
     "output_type": "stream",
     "text": [
      "+-----------+---------------+-----------+---------------------------------------------------------+\n",
      "|marketplace|productCategory|star_rating|round(((sum(helpful_votes) / sum(total_votes)) * 100), 2)|\n",
      "+-----------+---------------+-----------+---------------------------------------------------------+\n",
      "|         US|          Books|          1|                                                    48.54|\n",
      "|         FR|          Books|          1|                                                     60.3|\n",
      "|         UK|          Books|          1|                                                    51.17|\n",
      "|         JP|          Books|          1|                                                    46.12|\n",
      "|         DE|          Books|          1|                                                    40.49|\n",
      "|         FR|          Books|          2|                                                    58.18|\n",
      "|         JP|          Books|          2|                                                    44.81|\n",
      "|         UK|          Books|          2|                                                    60.47|\n",
      "|         US|          Books|          2|                                                    61.99|\n",
      "|         DE|          Books|          2|                                                     54.3|\n",
      "|         FR|          Books|          3|                                                    66.06|\n",
      "|         UK|          Books|          3|                                                    68.13|\n",
      "|         JP|          Books|          3|                                                     61.6|\n",
      "|         US|          Books|          3|                                                    69.44|\n",
      "|         DE|          Books|          3|                                                    62.26|\n",
      "|         JP|          Books|          4|                                                    75.97|\n",
      "|         FR|          Books|          4|                                                     71.5|\n",
      "|         US|          Books|          4|                                                    79.62|\n",
      "|         UK|          Books|          4|                                                    75.39|\n",
      "|         DE|          Books|          4|                                                    70.03|\n",
      "+-----------+---------------+-----------+---------------------------------------------------------+\n",
      "only showing top 20 rows\n",
      "\n"
     ]
    }
   ],
   "source": [
    "df_useful_reviews_mp.show()"
   ]
  },
  {
   "cell_type": "code",
   "execution_count": 150,
   "id": "a1d6eb02-656c-4d90-928b-6d217580eac4",
   "metadata": {},
   "outputs": [],
   "source": [
    "df_useful_reviews_mp = df_useful_reviews_mp.select(F.col('marketplace'), F.col('productCategory'), F.col('star_rating'), F.round(F.col('round(((sum(helpful_votes) / sum(total_votes)) * 100), 2)')).alias('helpful_percent'))"
   ]
  },
  {
   "cell_type": "code",
   "execution_count": 151,
   "id": "a6ac65a5-32ad-48a3-9c31-8f00b897ec25",
   "metadata": {},
   "outputs": [],
   "source": [
    "pd_useful_reviews_mp =  df_useful_reviews_mp.toPandas()"
   ]
  },
  {
   "cell_type": "code",
   "execution_count": 153,
   "id": "62d95d35-adbd-4555-9a4b-827c76653ab6",
   "metadata": {},
   "outputs": [
    {
     "data": {
      "text/plain": [
       "<seaborn.axisgrid.FacetGrid at 0x7f4ebdcbe0d0>"
      ]
     },
     "execution_count": 153,
     "metadata": {},
     "output_type": "execute_result"
    },
    {
     "data": {
      "image/png": "[encoded data removed]",
      "text/plain": [
       "<Figure size 2225.88x432 with 5 Axes>"
      ]
     },
     "metadata": {
      "needs_background": "light"
     },
     "output_type": "display_data"
    }
   ],
   "source": [
    "g = sns.FacetGrid(\n",
    "    data=pd_useful_reviews_mp, col=\"star_rating\", \n",
    "    height=6, aspect=1,\n",
    ")\n",
    "\n",
    "\n",
    "g.map_dataframe(sns.barplot, x=\"marketplace\", y ='helpful_percent', hue = 'productCategory', palette=\"husl\")\n",
    "\n",
    "g.add_legend()\n",
    "\n",
    "\n",
    "\n",
    "\n",
    "\n"
   ]
  },
  {
   "cell_type": "markdown",
   "id": "4a0b5b40-c00a-4426-90d9-85496c2013ac",
   "metadata": {},
   "source": [
    "### 6. Avg length of reviews by product Category"
   ]
  },
  {
   "cell_type": "code",
   "execution_count": 156,
   "id": "efd8c2d8-cde5-4141-9171-1f10628c3818",
   "metadata": {},
   "outputs": [],
   "source": [
    "df_length_reviews = df_music_books.groupby(['productCategory', 'star_rating']).agg((F.avg(F.length('review_body'))),F.round((F.sum('helpful_votes')/F.sum('total_votes'))*100,2)).sort(['productCategory', 'star_rating'], ascending=[True, True])"
   ]
  },
  {
   "cell_type": "code",
   "execution_count": 158,
   "id": "2f084b08-9a0c-443b-a25c-6b9c97dbd729",
   "metadata": {},
   "outputs": [],
   "source": [
    "df_length_reviews = df_length_reviews.select('productCategory', 'star_rating', F.col('avg(length(review_body))').alias('avg_review_length'), F.col('round(((sum(helpful_votes) / sum(total_votes)) * 100), 2)').alias('helpful_percent'))"
   ]
  },
  {
   "cell_type": "code",
   "execution_count": 159,
   "id": "a507e487-3ecd-4158-9725-a8954db511cf",
   "metadata": {},
   "outputs": [
    {
     "name": "stdout",
     "output_type": "stream",
     "text": [
      "+---------------+-----------+-----------------+---------------+\n",
      "|productCategory|star_rating|avg_review_length|helpful_percent|\n",
      "+---------------+-----------+-----------------+---------------+\n",
      "|          Books|          1|781.7169655757765|          48.56|\n",
      "|          Books|          2|914.8840249785927|          61.95|\n",
      "|          Books|          3|937.4739585863945|           69.4|\n",
      "|          Books|          4|894.2702509429536|          79.55|\n",
      "|          Books|          5|592.9165767762097|          81.79|\n",
      "|          Music|          1|558.8660788691647|           32.9|\n",
      "|          Music|          2|740.2580634030198|          41.86|\n",
      "|          Music|          3|829.7005252256251|           54.1|\n",
      "|          Music|          4|843.9350968875281|          75.73|\n",
      "|          Music|          5|580.5339100424954|          80.26|\n",
      "+---------------+-----------+-----------------+---------------+\n",
      "\n"
     ]
    }
   ],
   "source": [
    "df_length_reviews.show()"
   ]
  },
  {
   "cell_type": "markdown",
   "id": "c68f9a70-31ec-4966-84bb-efb368f9b3d2",
   "metadata": {},
   "source": [
    " From the above table it can be observed that shorter reviews are generally found to be more helpful across both the product categories"
   ]
  },
  {
   "cell_type": "markdown",
   "id": "d4066e7a-c273-4817-b351-a20a449041ec",
   "metadata": {},
   "source": [
    "#### 7. Avg length of reviews by markept place and product Category"
   ]
  },
  {
   "cell_type": "code",
   "execution_count": 160,
   "id": "1326a022-48ca-4953-a708-45969ea85410",
   "metadata": {},
   "outputs": [],
   "source": [
    "df_length_reviews_mp = df_music_books.groupby(['marketplace','productCategory', 'star_rating']).agg((F.avg(F.length('review_body')))).sort(['marketplace','productCategory', 'star_rating'], ascending=[True, True, False])"
   ]
  },
  {
   "cell_type": "code",
   "execution_count": 161,
   "id": "3c61b1e3-30c2-4e1f-bd27-ee3972043ad2",
   "metadata": {},
   "outputs": [
    {
     "name": "stdout",
     "output_type": "stream",
     "text": [
      "+-----------+---------------+-----------+------------------------+\n",
      "|marketplace|productCategory|star_rating|avg(length(review_body))|\n",
      "+-----------+---------------+-----------+------------------------+\n",
      "|         DE|          Books|          5|       774.8532345793311|\n",
      "|         DE|          Books|          4|       966.2710873727704|\n",
      "|         DE|          Books|          3|      1079.5295154185021|\n",
      "|         DE|          Books|          2|       972.0804800564772|\n",
      "|         DE|          Books|          1|       844.5870794879428|\n",
      "|         DE|          Music|          5|       826.9758661232861|\n",
      "|         DE|          Music|          4|      1149.0931322690487|\n",
      "|         DE|          Music|          3|      1133.8411712511092|\n",
      "|         DE|          Music|          2|      1013.0656007172744|\n",
      "|         DE|          Music|          1|       754.8204199855178|\n",
      "|         FR|          Books|          5|       694.1774457329765|\n",
      "|         FR|          Books|          4|       557.5910296599952|\n",
      "|         FR|          Books|          3|       563.2250666666666|\n",
      "|         FR|          Books|          2|       555.7642357642358|\n",
      "|         FR|          Books|          1|       710.6565349544073|\n",
      "|         FR|          Music|          5|       679.6654667118414|\n",
      "|         FR|          Music|          4|       809.2359139784946|\n",
      "|         FR|          Music|          3|       804.2071065989848|\n",
      "|         FR|          Music|          2|       754.2794918330309|\n",
      "|         FR|          Music|          1|       616.6887796887797|\n",
      "+-----------+---------------+-----------+------------------------+\n",
      "only showing top 20 rows\n",
      "\n"
     ]
    }
   ],
   "source": [
    "df_length_reviews_mp.show()"
   ]
  },
  {
   "cell_type": "code",
   "execution_count": 162,
   "id": "f8a218d9-2fdd-4fcb-9915-939dee73e46d",
   "metadata": {},
   "outputs": [
    {
     "data": {
      "text/html": [
       "<div>\n",
       "<style scoped>\n",
       "    .dataframe tbody tr th:only-of-type {\n",
       "        vertical-align: middle;\n",
       "    }\n",
       "\n",
       "    .dataframe tbody tr th {\n",
       "        vertical-align: top;\n",
       "    }\n",
       "\n",
       "    .dataframe thead th {\n",
       "        text-align: right;\n",
       "    }\n",
       "</style>\n",
       "<table border=\"1\" class=\"dataframe\">\n",
       "  <thead>\n",
       "    <tr style=\"text-align: right;\">\n",
       "      <th></th>\n",
       "      <th>marketplace</th>\n",
       "      <th>productCategory</th>\n",
       "      <th>star_rating</th>\n",
       "      <th>avg(length(review_body))</th>\n",
       "    </tr>\n",
       "  </thead>\n",
       "  <tbody>\n",
       "    <tr>\n",
       "      <th>0</th>\n",
       "      <td>DE</td>\n",
       "      <td>Books</td>\n",
       "      <td>5</td>\n",
       "      <td>774.853235</td>\n",
       "    </tr>\n",
       "    <tr>\n",
       "      <th>1</th>\n",
       "      <td>DE</td>\n",
       "      <td>Books</td>\n",
       "      <td>4</td>\n",
       "      <td>966.271087</td>\n",
       "    </tr>\n",
       "    <tr>\n",
       "      <th>2</th>\n",
       "      <td>DE</td>\n",
       "      <td>Books</td>\n",
       "      <td>3</td>\n",
       "      <td>1079.529515</td>\n",
       "    </tr>\n",
       "    <tr>\n",
       "      <th>3</th>\n",
       "      <td>DE</td>\n",
       "      <td>Books</td>\n",
       "      <td>2</td>\n",
       "      <td>972.080480</td>\n",
       "    </tr>\n",
       "    <tr>\n",
       "      <th>4</th>\n",
       "      <td>DE</td>\n",
       "      <td>Books</td>\n",
       "      <td>1</td>\n",
       "      <td>844.587079</td>\n",
       "    </tr>\n",
       "  </tbody>\n",
       "</table>\n",
       "</div>"
      ],
      "text/plain": [
       "  marketplace productCategory  star_rating  avg(length(review_body))\n",
       "0          DE           Books            5                774.853235\n",
       "1          DE           Books            4                966.271087\n",
       "2          DE           Books            3               1079.529515\n",
       "3          DE           Books            2                972.080480\n",
       "4          DE           Books            1                844.587079"
      ]
     },
     "execution_count": 162,
     "metadata": {},
     "output_type": "execute_result"
    }
   ],
   "source": [
    "pd_length_reviews_mp =  df_length_reviews_mp.toPandas()\n",
    "pd_length_reviews_mp.head()"
   ]
  },
  {
   "cell_type": "code",
   "execution_count": null,
   "id": "ae21dacf-d9a7-49ee-a8d8-b87466517867",
   "metadata": {},
   "outputs": [],
   "source": [
    "g_MAP = sns.FacetGrid(\n",
    "    data=pd_length_reviews_mp, col=\"productCategory\", row=\"marketplace\", \n",
    "    height=6, aspect=1,\n",
    ")\n",
    "\n",
    "\n",
    "g_MAP.map_dataframe(sns.barplot, x=\"star_rating\", y ='avg(length(review_body))')\n",
    "\n",
    "\n"
   ]
  },
  {
   "cell_type": "code",
   "execution_count": 163,
   "id": "fb24c333-1d5f-40dc-804f-cc7b58d3d74e",
   "metadata": {},
   "outputs": [
    {
     "data": {
      "text/plain": [
       "<seaborn.axisgrid.FacetGrid at 0x7f4ecd047190>"
      ]
     },
     "execution_count": 163,
     "metadata": {},
     "output_type": "execute_result"
    },
    {
     "data": {
      "image/png": "[encoded data removed]",
      "text/plain": [
       "<Figure size 2225.88x432 with 5 Axes>"
      ]
     },
     "metadata": {
      "needs_background": "light"
     },
     "output_type": "display_data"
    }
   ],
   "source": [
    "g = sns.FacetGrid(\n",
    "    data=pd_length_reviews_mp, col=\"star_rating\", \n",
    "    height=6, aspect=1,\n",
    ")\n",
    "\n",
    "\n",
    "g.map_dataframe(sns.barplot, x=\"marketplace\", y ='avg(length(review_body))', hue = 'productCategory', palette=\"husl\")\n",
    "\n",
    "g.add_legend()\n"
   ]
  }
 ],
 "metadata": {
  "kernelspec": {
   "display_name": "Python 3",
   "language": "python",
   "name": "python3"
  },
  "language_info": {
   "codemirror_mode": {
    "name": "ipython",
    "version": 3
   },
   "file_extension": ".py",
   "mimetype": "text/x-python",
   "name": "python",
   "nbconvert_exporter": "python",
   "pygments_lexer": "ipython3",
   "version": "3.7.10"
  }
 },
 "nbformat": 4,
 "nbformat_minor": 5
}
